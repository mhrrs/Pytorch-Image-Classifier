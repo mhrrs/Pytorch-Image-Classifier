{
 "cells": [
  {
   "cell_type": "markdown",
   "metadata": {
    "id": "y2yQI401CyLD"
   },
   "source": [
    "#***1.1 Deep vs Shallow:***\n",
    "single-input, single-output non-linear functions trained on MNIST or CIFAR-10.\n",
    "\n",
    "Chose to use CNNs."
   ]
  },
  {
   "cell_type": "code",
   "execution_count": 1,
   "metadata": {},
   "outputs": [],
   "source": [
    "# pip install torch"
   ]
  },
  {
   "cell_type": "code",
   "execution_count": 2,
   "metadata": {},
   "outputs": [],
   "source": [
    "# pip install torchvision"
   ]
  },
  {
   "cell_type": "code",
   "execution_count": 3,
   "metadata": {
    "id": "3WHsz-LEGpSK"
   },
   "outputs": [],
   "source": [
    "import torch\n",
    "import os\n",
    "import torchvision\n",
    "import tarfile\n",
    "from torchvision.datasets.utils import download_url\n",
    "from torch.utils.data import random_split\n",
    "from torchvision.datasets import ImageFolder\n",
    "from torchvision.transforms import ToTensor\n",
    "import matplotlib.pyplot as plt\n",
    "import matplotlib\n",
    "%matplotlib inline"
   ]
  },
  {
   "cell_type": "code",
   "execution_count": 4,
   "metadata": {
    "id": "-ej9hvV5Ij4d"
   },
   "outputs": [],
   "source": [
    "project_name = \"01-cifar10-cnn\""
   ]
  },
  {
   "cell_type": "code",
   "execution_count": 5,
   "metadata": {
    "colab": {
     "base_uri": "https://localhost:8080/",
     "height": 66,
     "referenced_widgets": [
      "bfb32ebe28bf43868506bc7ca12f1191",
      "f3196bc95cd1418aab803dfb8415a493",
      "a01b6bd5bb894328880bc84f8ae7bccd",
      "89137c9cd49e473db50368a0a74dd92d",
      "59c31d7c267947cda95f55b1b4605add",
      "ce79b9dd0db34dfba4db6646231b772d",
      "4abf6df2edd249d68905058589800436",
      "04c3f945006b44678fa6fb3f5b567016",
      "40ec7065663a40f5a66e7385a2f26a4e",
      "f39d1983a341446dac6c8f54ff8fb223",
      "e657e2540d0c44e491ec9b923e56c1ee"
     ]
    },
    "id": "O_OB31-8JCUK",
    "outputId": "6a5f1e10-5878-4cd4-cd4b-58dfe4509a0b"
   },
   "outputs": [
    {
     "name": "stdout",
     "output_type": "stream",
     "text": [
      "Using downloaded and verified file: ./cifar10.tgz\n"
     ]
    }
   ],
   "source": [
    "# download the dataset\n",
    "dataset_url = \"https://s3.amazonaws.com/fast-ai-imageclas/cifar10.tgz\"\n",
    "download_url(dataset_url, \".\")"
   ]
  },
  {
   "cell_type": "code",
   "execution_count": 6,
   "metadata": {
    "id": "0y6-S4NgJVWT"
   },
   "outputs": [],
   "source": [
    "# extract from archive into train and test dataset (if this is the first time you're running this program, uncomment the below section)\n",
    "# with tarfile.open(\"./cifar10.tgz\", \"r:gz\") as tar:\n",
    "#   tar.extractall(path=\"./data\")"
   ]
  },
  {
   "cell_type": "code",
   "execution_count": 7,
   "metadata": {
    "colab": {
     "base_uri": "https://localhost:8080/"
    },
    "id": "6uuv_PQMJ1x5",
    "outputId": "415d50c4-9863-45f7-e45a-aad86d15e738"
   },
   "outputs": [
    {
     "name": "stdout",
     "output_type": "stream",
     "text": [
      "['train', 'test']\n",
      "['frog', 'bird', 'airplane', 'dog', 'deer', 'cat', 'automobile', 'truck', 'ship', 'horse']\n"
     ]
    }
   ],
   "source": [
    "data_dir = \"./data/cifar10\"\n",
    "print(os.listdir(data_dir))\n",
    "classes = os.listdir(data_dir + \"/train\")\n",
    "print(classes)"
   ]
  },
  {
   "cell_type": "code",
   "execution_count": 8,
   "metadata": {
    "id": "QxN0J1hWKHgX"
   },
   "outputs": [],
   "source": [
    "# transform the images into tensors\n",
    "dataset = ImageFolder(data_dir+\"/train\", transform=ToTensor())"
   ]
  },
  {
   "cell_type": "code",
   "execution_count": 9,
   "metadata": {
    "colab": {
     "base_uri": "https://localhost:8080/"
    },
    "id": "xNmIyRd9K21O",
    "outputId": "5adf40cc-6f53-4402-be4c-9b1fbda5b583"
   },
   "outputs": [
    {
     "name": "stdout",
     "output_type": "stream",
     "text": [
      "torch.Size([3, 32, 32]) 0\n",
      "['airplane', 'automobile', 'bird', 'cat', 'deer', 'dog', 'frog', 'horse', 'ship', 'truck']\n"
     ]
    }
   ],
   "source": [
    "img, label = dataset[0]\n",
    "\n",
    "# prints 3 32x32 matrices\n",
    "print(img.shape, label)\n",
    "\n",
    "# list of classes is stored in the .classes property\n",
    "print(dataset.classes)"
   ]
  },
  {
   "cell_type": "markdown",
   "metadata": {
    "id": "PScjb6OOLthw"
   },
   "source": [
    "Changing tensor dimensions to be viewable in Matplotlib."
   ]
  },
  {
   "cell_type": "code",
   "execution_count": 10,
   "metadata": {
    "id": "LQAmLg9Sqnpx"
   },
   "outputs": [],
   "source": [
    "from torch.utils.data.dataloader import DataLoader\n",
    "batch_size = 4"
   ]
  },
  {
   "cell_type": "code",
   "execution_count": 11,
   "metadata": {
    "colab": {
     "base_uri": "https://localhost:8080/"
    },
    "id": "UeSeu74E4JoF",
    "outputId": "4c53b669-0109-4bfc-f6b6-2ab882d4ce6f"
   },
   "outputs": [
    {
     "data": {
      "text/plain": [
       "(45000, 5000)"
      ]
     },
     "execution_count": 11,
     "metadata": {},
     "output_type": "execute_result"
    }
   ],
   "source": [
    "val_size = 5000\n",
    "train_size = len(dataset) - val_size\n",
    "\n",
    "train_ds, val_ds = random_split(dataset, [train_size, val_size])\n",
    "len(train_ds), len(val_ds)"
   ]
  },
  {
   "cell_type": "code",
   "execution_count": 12,
   "metadata": {
    "id": "0SFmyXYv3sGq"
   },
   "outputs": [],
   "source": [
    "# divides data into batches\n",
    "train_dl = DataLoader(train_ds,batch_size,shuffle=True,num_workers=4,pin_memory=True)\n",
    "val_dl = DataLoader(val_ds,batch_size*2,num_workers=4,pin_memory=True)"
   ]
  },
  {
   "cell_type": "markdown",
   "metadata": {
    "id": "4rLl8bFIuRdb"
   },
   "source": [
    "# **Creating Networks**\n",
    "\n",
    "effect of conv2d layer on width and height:\n",
    "W = input width/input height\n",
    "F = Filter width/filter height\n",
    "P = Padding\n",
    "S = Stride\n",
    "(W-F +2P)/S+1\n",
    "\n",
    "effect of pooling layer:\n",
    "W/2\n",
    "\n",
    "flattening dimensions need to be equal to:\n",
    "number_of_filters*output_height*output_width"
   ]
  },
  {
   "cell_type": "code",
   "execution_count": 13,
   "metadata": {
    "id": "MBjqJH8FuXbL"
   },
   "outputs": [],
   "source": [
    "import torch.nn as nn\n",
    "import torch.nn.functional as F"
   ]
  },
  {
   "cell_type": "code",
   "execution_count": 29,
   "metadata": {
    "colab": {
     "base_uri": "https://localhost:8080/"
    },
    "id": "q3KS9Dvs0tHk",
    "outputId": "7efde71f-a12a-429e-9ed9-e6bfde1cacec"
   },
   "outputs": [
    {
     "name": "stdout",
     "output_type": "stream",
     "text": [
      "290486\n"
     ]
    }
   ],
   "source": [
    "from torch.nn.modules import Softmax\n",
    "from torch.nn.modules.activation import ReLU\n",
    "\n",
    "device = torch.device('cuda' if torch.cuda.is_available() else 'cpu')\n",
    "\n",
    "class ConvNet(nn.Module):\n",
    "  def __init__(self):\n",
    "    super(ConvNet, self).__init__()\n",
    "    self.conv1 = nn.Conv2d(3,6,5)\n",
    "    self.pool = nn.MaxPool2d(2,2)\n",
    "    self.conv2 = nn.Conv2d(6,16,5)\n",
    "    self.fc1 = nn.Linear(16*12*12, 120)\n",
    "    self.fc2 = nn.Linear(120, 84)\n",
    "    self.Dropout = nn.Dropout(0.25)\n",
    "    self.fc3 = nn.Linear(84, 10)\n",
    "\n",
    "  def forward(self, x):\n",
    "    x = F.relu(self.conv1(x))\n",
    "    x = self.pool(F.relu(self.conv2(x)))\n",
    "    x = self.Dropout(x)\n",
    "    x = x.view(-1, 16*12*12)\n",
    "    x = F.relu(self.fc1(x))\n",
    "    x = F.relu(self.fc2(x))\n",
    "    x = self.fc3(x)\n",
    "    return x\n",
    "\n",
    "model_one = ConvNet().to(device)\n",
    "num_params = sum(p.numel() for p in model_one.parameters())\n",
    "print(num_params)"
   ]
  },
  {
   "cell_type": "code",
   "execution_count": 50,
   "metadata": {
    "colab": {
     "base_uri": "https://localhost:8080/"
    },
    "id": "y6qkBgN-0_Ti",
    "outputId": "8e52fde4-8868-42b3-ddd4-918c923d2fb4"
   },
   "outputs": [
    {
     "name": "stdout",
     "output_type": "stream",
     "text": [
      "290601\n"
     ]
    }
   ],
   "source": [
    "# NOTE: check your values!! just wasted a bunch of time.\n",
    "class ConvNet_two(nn.Module):\n",
    "  def __init__(self):\n",
    "    super(ConvNet_two, self).__init__()\n",
    "    self.conv1 = nn.Conv2d(3,15,3)\n",
    "    self.conv2 = nn.Conv2d(15,32,3)\n",
    "    self.conv3 = nn.Conv2d(32,42,3)\n",
    "    self.pool = nn.MaxPool2d(2,2)\n",
    "    self.fc1 = nn.Linear(42*6*6, 170)\n",
    "    self.fc2 = nn.Linear(170, 91)\n",
    "    self.Dropout = nn.Dropout(0.5)\n",
    "    self.fc3 = nn.Linear(91, 10)\n",
    "\n",
    "  def forward(self, x):\n",
    "    x = F.relu(self.conv1(x))\n",
    "    x = self.pool(F.relu(self.conv2(x)))\n",
    "    x = self.pool(F.relu(self.conv3(x)))\n",
    "    x = self.Dropout(x)\n",
    "    x = x.view(-1, 42*6*6)\n",
    "    x = F.relu(self.fc1(x))\n",
    "    x = F.relu(self.fc2(x))\n",
    "    x = self.fc3(x)\n",
    "    return x\n",
    "\n",
    "model_two = ConvNet_two().to(device)\n",
    "num_params = sum(p.numel() for p in model_two.parameters())\n",
    "print(num_params)"
   ]
  },
  {
   "cell_type": "code",
   "execution_count": 30,
   "metadata": {
    "colab": {
     "base_uri": "https://localhost:8080/"
    },
    "id": "fMg0F2lt8ILx",
    "outputId": "18bdd9ae-5c6c-474e-e7a2-cba5572f6d4b"
   },
   "outputs": [
    {
     "name": "stdout",
     "output_type": "stream",
     "text": [
      "1487870\n"
     ]
    }
   ],
   "source": [
    "class ConvNet_three(nn.Module):\n",
    "  def __init__(self):\n",
    "    super(ConvNet_three, self).__init__()\n",
    "    self.conv1 = nn.Conv2d(3,64,3)\n",
    "    self.conv2 = nn.Conv2d(64,128,3)\n",
    "    self.conv3 = nn.Conv2d(128,256,3)\n",
    "    self.pool = nn.MaxPool2d(2,2)\n",
    "    self.fc1 = nn.Linear(256*6*6, 120)\n",
    "    self.fc2 = nn.Linear(120, 84)\n",
    "    self.Dropout = nn.Dropout(0.5)\n",
    "    self.fc3 = nn.Linear(84, 10)\n",
    "\n",
    "  def forward(self, x):\n",
    "    x = F.relu(self.conv1(x))\n",
    "    x = self.pool(F.relu(self.conv2(x)))\n",
    "    x = self.pool(F.relu(self.conv3(x)))\n",
    "    x = self.Dropout(x)\n",
    "    x = x.view(-1, 256*6*6)\n",
    "    x = F.relu(self.fc1(x))\n",
    "    x = F.relu(self.fc2(x))\n",
    "    x = self.fc3(x)\n",
    "    return x\n",
    "\n",
    "model_three = ConvNet_three().to(device)\n",
    "num_params = sum(p.numel() for p in model_three.parameters())\n",
    "print(num_params)"
   ]
  },
  {
   "cell_type": "markdown",
   "metadata": {
    "id": "nBWC2J9Uh01M"
   },
   "source": [
    "# **Creating functions to train the networks.**\n",
    "CollectWeights class: is responsible for gathering all of the weights of the model in each epic\n",
    "\n",
    "fit_model function: is responsible for training the model.\n",
    "\n",
    "evaulate_model: is responsible for calculating the accuracy of the model\n",
    "\n",
    "gradient_norm function: is responsible for recording the gradient norm and the loss during training"
   ]
  },
  {
   "cell_type": "code",
   "execution_count": 17,
   "metadata": {
    "id": "EbRSEXxeXqCU"
   },
   "outputs": [],
   "source": [
    "# collect weights function\n",
    "class CollectWeights:\n",
    "  def __init__(self, model):\n",
    "    self.model = model\n",
    "    self.epoch_weights = []\n",
    "\n",
    "  def end_of_epoch(self, epoch, logs={}):\n",
    "    state_dict = self.model.state_dict()\n",
    "    self.epoch_weights.append(state_dict)"
   ]
  },
  {
   "cell_type": "code",
   "execution_count": 18,
   "metadata": {
    "id": "IJpyBywjbL-v"
   },
   "outputs": [],
   "source": [
    "# fit model function\n",
    "n_total_steps = len(train_dl)\n",
    "num_epochs = 10\n",
    "\n",
    "def fit_model(model):\n",
    "  criterion = nn.CrossEntropyLoss()\n",
    "  optimizer = torch.optim.SGD(model.parameters(), lr=.001)\n",
    "  callback = CollectWeights(model)\n",
    "  model_list = []\n",
    "\n",
    "  # begin training loop\n",
    "  for epoch in range(num_epochs):\n",
    "    for i, (images,labels) in enumerate(train_dl):\n",
    "      images = images.to(device)\n",
    "      labels = labels.to(device)\n",
    "\n",
    "      # forward pass\n",
    "      outputs = model(images)\n",
    "      loss = criterion(outputs, labels)\n",
    "\n",
    "      # backward and optimize\n",
    "      optimizer.zero_grad()\n",
    "      loss.backward()\n",
    "      optimizer.step()\n",
    "\n",
    "      if (i % len(train_dl) == 0):\n",
    "        print(f'MODEL: Epoch [{epoch+1}/{num_epochs}], Step [{i+1}/{n_total_steps}], Loss: {loss.item():.4f}')\n",
    "\n",
    "        # record gradient norm\n",
    "        grad_all = 0.0\n",
    "\n",
    "        for p in model.parameters():\n",
    "          grad = 0.0\n",
    "          if p.grad is not None:\n",
    "            grad = (p.grad.cpu().data.numpy()**2).sum()\n",
    "          grad_all += grad\n",
    "\n",
    "        grad_norm = grad_all ** 0.5\n",
    "        \n",
    "        # collects loss values\n",
    "        model_list.append(loss.item())\n",
    "        \n",
    "        # collect weights\n",
    "        callback.end_of_epoch(epoch)\n",
    "\n",
    "  print(f'MODEL: Epoch [{epoch+1}/{num_epochs}], Step [{i+1}/{n_total_steps}], Loss: {loss.item():.4f}')\n",
    "  #collect parameters of model at every epoch\n",
    "  params = model.state_dict()\n",
    "  param_total = 0\n",
    "  for name, param in params.items():\n",
    "    print(f'{name}: {param.shape}')\n",
    "  return model_list, callback.epoch_weights\n"
   ]
  },
  {
   "cell_type": "code",
   "execution_count": 19,
   "metadata": {
    "id": "jmDtQGMczlCk"
   },
   "outputs": [],
   "source": [
    "# evaluate model accuracy\n",
    "\n",
    "model_one_accuracy = []\n",
    "model_two_accuracy = []\n",
    "model_three_accuracy = []\n",
    "\n",
    "def evaluate_model (model, model_list):\n",
    "  model.eval()\n",
    "  with torch.no_grad():\n",
    "    correct = 0\n",
    "    total = 0\n",
    "    for images,labels in val_dl:\n",
    "      images = images.to(device)\n",
    "      labels = labels.to(device)\n",
    "      outputs = model(images)\n",
    "      _, predicted = torch.max(outputs.data,1)\n",
    "      total += labels.size(0)\n",
    "      correct += (predicted == labels).sum().item()\n",
    "      accuract_value = 100*correct/total\n",
    "      model_list.append(accuract_value)\n",
    "      i = 0\n",
    "      \n",
    "    print(f\"Accuract of the model on the test images: {100*correct/total}%\")"
   ]
  },
  {
   "cell_type": "markdown",
   "metadata": {
    "id": "Z4nEI6aTOzGg"
   },
   "source": [
    "# **Model Training and Evaluation**\n",
    "Each cell below includes the model's training and evaluation functions."
   ]
  },
  {
   "cell_type": "code",
   "execution_count": 20,
   "metadata": {
    "colab": {
     "base_uri": "https://localhost:8080/"
    },
    "id": "2zAmRKwLvbq1",
    "outputId": "6a6984f0-e614-43ae-83be-698fddeccf31"
   },
   "outputs": [
    {
     "name": "stdout",
     "output_type": "stream",
     "text": [
      "MODEL: Epoch [1/10], Step [1/11250], Loss: 2.2782\n",
      "MODEL: Epoch [2/10], Step [1/11250], Loss: 2.2963\n",
      "MODEL: Epoch [3/10], Step [1/11250], Loss: 2.5770\n",
      "MODEL: Epoch [4/10], Step [1/11250], Loss: 2.2544\n",
      "MODEL: Epoch [5/10], Step [1/11250], Loss: 1.7665\n",
      "MODEL: Epoch [6/10], Step [1/11250], Loss: 1.9311\n",
      "MODEL: Epoch [7/10], Step [1/11250], Loss: 1.5431\n",
      "MODEL: Epoch [8/10], Step [1/11250], Loss: 1.9212\n",
      "MODEL: Epoch [9/10], Step [1/11250], Loss: 1.6548\n",
      "MODEL: Epoch [10/10], Step [1/11250], Loss: 2.0213\n",
      "MODEL: Epoch [10/10], Step [11250/11250], Loss: 1.5749\n",
      "conv1.weight: torch.Size([6, 3, 5, 5])\n",
      "conv1.bias: torch.Size([6])\n",
      "conv2.weight: torch.Size([16, 6, 5, 5])\n",
      "conv2.bias: torch.Size([16])\n",
      "fc1.weight: torch.Size([120, 2304])\n",
      "fc1.bias: torch.Size([120])\n",
      "fc2.weight: torch.Size([84, 120])\n",
      "fc2.bias: torch.Size([84])\n",
      "fc3.weight: torch.Size([10, 84])\n",
      "fc3.bias: torch.Size([10])\n",
      "Model [1] Loss:  2.0212502479553223\n",
      "Accuract of the model on the test images: 53.96%\n"
     ]
    }
   ],
   "source": [
    "model_one_loss = []\n",
    "model_one_weights = []\n",
    "\n",
    "model_one_loss, model_one_weights = fit_model(model_one)\n",
    "print(\"Model [1] Loss: \", model_one_loss[-1])\n",
    "evaluate_model(model_one, model_one_accuracy)"
   ]
  },
  {
   "cell_type": "code",
   "execution_count": 21,
   "metadata": {
    "colab": {
     "base_uri": "https://localhost:8080/"
    },
    "id": "O9eF1_Qlp5E_",
    "outputId": "0001cb3e-5e13-452a-e7bf-a2e28d2b2b2f"
   },
   "outputs": [
    {
     "name": "stdout",
     "output_type": "stream",
     "text": [
      "MODEL: Epoch [1/10], Step [1/11250], Loss: 2.3546\n",
      "MODEL: Epoch [2/10], Step [1/11250], Loss: 2.3050\n",
      "MODEL: Epoch [3/10], Step [1/11250], Loss: 2.3090\n",
      "MODEL: Epoch [4/10], Step [1/11250], Loss: 2.3107\n",
      "MODEL: Epoch [5/10], Step [1/11250], Loss: 2.5652\n",
      "MODEL: Epoch [6/10], Step [1/11250], Loss: 2.5742\n",
      "MODEL: Epoch [7/10], Step [1/11250], Loss: 1.7312\n",
      "MODEL: Epoch [8/10], Step [1/11250], Loss: 1.5554\n",
      "MODEL: Epoch [9/10], Step [1/11250], Loss: 0.6338\n",
      "MODEL: Epoch [10/10], Step [1/11250], Loss: 0.9067\n",
      "MODEL: Epoch [10/10], Step [11250/11250], Loss: 1.0853\n",
      "conv1.weight: torch.Size([12, 3, 3, 3])\n",
      "conv1.bias: torch.Size([12])\n",
      "conv2.weight: torch.Size([18, 12, 3, 3])\n",
      "conv2.bias: torch.Size([18])\n",
      "conv3.weight: torch.Size([26, 18, 3, 3])\n",
      "conv3.bias: torch.Size([26])\n",
      "fc1.weight: torch.Size([100, 936])\n",
      "fc1.bias: torch.Size([100])\n",
      "fc2.weight: torch.Size([84, 100])\n",
      "fc2.bias: torch.Size([84])\n",
      "fc3.weight: torch.Size([10, 84])\n",
      "fc3.bias: torch.Size([10])\n",
      "Model [2] Loss:  0.9066630005836487\n",
      "Accuract of the model on the test images: 49.74%\n"
     ]
    }
   ],
   "source": [
    "model_two_loss = []\n",
    "model_two_weights = []\n",
    "\n",
    "model_two_loss, model_two_weights = fit_model(model_two)\n",
    "print(\"Model [2] Loss: \", model_two_loss[-1])\n",
    "evaluate_model(model_two, model_two_accuracy)"
   ]
  },
  {
   "cell_type": "code",
   "execution_count": 22,
   "metadata": {
    "id": "i8CLtBEKvTjK"
   },
   "outputs": [
    {
     "name": "stdout",
     "output_type": "stream",
     "text": [
      "MODEL: Epoch [1/10], Step [1/11250], Loss: 2.2715\n",
      "MODEL: Epoch [2/10], Step [1/11250], Loss: 2.1748\n",
      "MODEL: Epoch [3/10], Step [1/11250], Loss: 1.1748\n",
      "MODEL: Epoch [4/10], Step [1/11250], Loss: 1.5331\n",
      "MODEL: Epoch [5/10], Step [1/11250], Loss: 1.7338\n",
      "MODEL: Epoch [6/10], Step [1/11250], Loss: 1.3793\n",
      "MODEL: Epoch [7/10], Step [1/11250], Loss: 0.7346\n",
      "MODEL: Epoch [8/10], Step [1/11250], Loss: 1.5724\n",
      "MODEL: Epoch [9/10], Step [1/11250], Loss: 1.0842\n",
      "MODEL: Epoch [10/10], Step [1/11250], Loss: 1.3314\n",
      "MODEL: Epoch [10/10], Step [11250/11250], Loss: 1.2769\n",
      "conv1.weight: torch.Size([64, 3, 3, 3])\n",
      "conv1.bias: torch.Size([64])\n",
      "conv2.weight: torch.Size([128, 64, 3, 3])\n",
      "conv2.bias: torch.Size([128])\n",
      "conv3.weight: torch.Size([256, 128, 3, 3])\n",
      "conv3.bias: torch.Size([256])\n",
      "fc1.weight: torch.Size([120, 9216])\n",
      "fc1.bias: torch.Size([120])\n",
      "fc2.weight: torch.Size([84, 120])\n",
      "fc2.bias: torch.Size([84])\n",
      "fc3.weight: torch.Size([10, 84])\n",
      "fc3.bias: torch.Size([10])\n",
      "Model [3] Loss:  1.3313677310943604\n",
      "Accuract of the model on the test images: 61.56%\n"
     ]
    }
   ],
   "source": [
    "model_three_loss = []\n",
    "model_three_weights = []\n",
    "\n",
    "model_three_loss, model_three_weights = fit_model(model_three)\n",
    "print(\"Model [3] Loss: \", model_three_loss[-1])\n",
    "evaluate_model(model_three, model_three_accuracy)"
   ]
  },
  {
   "cell_type": "markdown",
   "metadata": {
    "id": "NIJ9ibCqdSzl",
    "tags": []
   },
   "source": [
    "# **Visualizing Training Loss and Training Accuracy:**"
   ]
  },
  {
   "cell_type": "code",
   "execution_count": 23,
   "metadata": {
    "colab": {
     "base_uri": "https://localhost:8080/",
     "height": 483
    },
    "id": "NYOgI-P_dckf",
    "outputId": "6725ecee-9894-4b07-c0c9-44f19aafb223"
   },
   "outputs": [
    {
     "data": {
      "image/png": "[encoded data removed]",
      "text/plain": [
       "<Figure size 432x288 with 1 Axes>"
      ]
     },
     "metadata": {
      "needs_background": "light"
     },
     "output_type": "display_data"
    }
   ],
   "source": [
    "plt.plot(model_one_loss, color=\"blue\", label=\"model one\")\n",
    "plt.plot(model_two_loss, color=\"green\", label=\"model two\")\n",
    "plt.plot(model_three_loss, color=\"red\", label=\"model three\")\n",
    "\n",
    "plt.xlabel('Epochs')\n",
    "plt.ylabel('Loss')\n",
    "plt.title('Training loss over Epochs')\n",
    "plt.legend()\n",
    "plt.show()"
   ]
  },
  {
   "cell_type": "markdown",
   "metadata": {
    "id": "NIJ9ibCqdSzl",
    "tags": []
   },
   "source": [
    "The training loss is not that surprising as it should take time for model_three's more complex architecture and size to eventually outperform model_two's more shallow parameter base. Model_one being so much less in effective in it's loss might display that model_two could be overfitting considering they are somewhat similar and model_two has far less parameters per layer. This would be surprising considering there is a .5 dropset attached to model_two. \n",
    "\n",
    "Besides this, everything looks normal to me. I would imagine that after several more iterations (into the tens and reaching 100 epochs) we would most likely start to see model_three outperform the rest of the models as it has the most parameters and deepest network for obtaining more generalizations about the dataset without compromising its filters."
   ]
  },
  {
   "cell_type": "code",
   "execution_count": 24,
   "metadata": {
    "colab": {
     "base_uri": "https://localhost:8080/",
     "height": 296
    },
    "id": "EMCSjDWVorRe",
    "outputId": "54fbde7c-e6dc-4ef4-c3b6-5f748953b2f5"
   },
   "outputs": [
    {
     "data": {
      "image/png": "[encoded data removed]",
      "text/plain": [
       "<Figure size 432x288 with 1 Axes>"
      ]
     },
     "metadata": {
      "needs_background": "light"
     },
     "output_type": "display_data"
    }
   ],
   "source": [
    "plt.plot(model_one_accuracy, color=\"blue\", label=\"model one\")\n",
    "plt.plot(model_two_accuracy, color=\"green\", label=\"model two\")\n",
    "plt.plot(model_three_accuracy, color=\"red\", label=\"model three\")\n",
    "\n",
    "plt.xlabel('Val_dl iterations')\n",
    "plt.ylabel('Accuracy')\n",
    "plt.title('Training accuracy over Val_dl iterations')\n",
    "plt.legend()\n",
    "plt.show()"
   ]
  },
  {
   "cell_type": "markdown",
   "metadata": {},
   "source": [
    "Now that we see the results of accuracy of all three models on the validation set, I would say I am not surprised at all by the results. The more trivial architecture of model_two shows that it really was overfitting and plateuas rather quickly. Meanwhile I did not expect model_three to plateua as such, possibly more training would allow for it to obtain better results as it probably didn't refine it's filters all that well. Another interesting idea would be to change the batch_size to see how that interacts with the models. Model_one performing as well as it did with a relatively small parameter limit and limited training despite being identical in param amount to model_two just shows that shallow models can beat deeper models and that the parameters per layer play a large part in being accurate as it has almost a 5% increase over model_two."
   ]
  }
 ],
 "metadata": {
  "accelerator": "GPU",
  "colab": {
   "provenance": []
  },
  "gpuClass": "standard",
  "kernelspec": {
   "display_name": "Python 3 (ipykernel)",
   "language": "python",
   "name": "python3"
  },
  "language_info": {
   "codemirror_mode": {
    "name": "ipython",
    "version": 3
   },
   "file_extension": ".py",
   "mimetype": "text/x-python",
   "name": "python",
   "nbconvert_exporter": "python",
   "pygments_lexer": "ipython3",
   "version": "3.9.12"
  },
  "widgets": {
   "application/vnd.jupyter.widget-state+json": {
    "04c3f945006b44678fa6fb3f5b567016": {
     "model_module": "@jupyter-widgets/base",
     "model_module_version": "1.2.0",
     "model_name": "LayoutModel",
     "state": {
      "_model_module": "@jupyter-widgets/base",
      "_model_module_version": "1.2.0",
      "_model_name": "LayoutModel",
      "_view_count": null,
      "_view_module": "@jupyter-widgets/base",
      "_view_module_version": "1.2.0",
      "_view_name": "LayoutView",
      "align_content": null,
      "align_items": null,
      "align_self": null,
      "border": null,
      "bottom": null,
      "display": null,
      "flex": null,
      "flex_flow": null,
      "grid_area": null,
      "grid_auto_columns": null,
      "grid_auto_flow": null,
      "grid_auto_rows": null,
      "grid_column": null,
      "grid_gap": null,
      "grid_row": null,
      "grid_template_areas": null,
      "grid_template_columns": null,
      "grid_template_rows": null,
      "height": null,
      "justify_content": null,
      "justify_items": null,
      "left": null,
      "margin": null,
      "max_height": null,
      "max_width": null,
      "min_height": null,
      "min_width": null,
      "object_fit": null,
      "object_position": null,
      "order": null,
      "overflow": null,
      "overflow_x": null,
      "overflow_y": null,
      "padding": null,
      "right": null,
      "top": null,
      "visibility": null,
      "width": null
     }
    },
    "40ec7065663a40f5a66e7385a2f26a4e": {
     "model_module": "@jupyter-widgets/controls",
     "model_module_version": "1.5.0",
     "model_name": "ProgressStyleModel",
     "state": {
      "_model_module": "@jupyter-widgets/controls",
      "_model_module_version": "1.5.0",
      "_model_name": "ProgressStyleModel",
      "_view_count": null,
      "_view_module": "@jupyter-widgets/base",
      "_view_module_version": "1.2.0",
      "_view_name": "StyleView",
      "bar_color": null,
      "description_width": ""
     }
    },
    "4abf6df2edd249d68905058589800436": {
     "model_module": "@jupyter-widgets/controls",
     "model_module_version": "1.5.0",
     "model_name": "DescriptionStyleModel",
     "state": {
      "_model_module": "@jupyter-widgets/controls",
      "_model_module_version": "1.5.0",
      "_model_name": "DescriptionStyleModel",
      "_view_count": null,
      "_view_module": "@jupyter-widgets/base",
      "_view_module_version": "1.2.0",
      "_view_name": "StyleView",
      "description_width": ""
     }
    },
    "59c31d7c267947cda95f55b1b4605add": {
     "model_module": "@jupyter-widgets/base",
     "model_module_version": "1.2.0",
     "model_name": "LayoutModel",
     "state": {
      "_model_module": "@jupyter-widgets/base",
      "_model_module_version": "1.2.0",
      "_model_name": "LayoutModel",
      "_view_count": null,
      "_view_module": "@jupyter-widgets/base",
      "_view_module_version": "1.2.0",
      "_view_name": "LayoutView",
      "align_content": null,
      "align_items": null,
      "align_self": null,
      "border": null,
      "bottom": null,
      "display": null,
      "flex": null,
      "flex_flow": null,
      "grid_area": null,
      "grid_auto_columns": null,
      "grid_auto_flow": null,
      "grid_auto_rows": null,
      "grid_column": null,
      "grid_gap": null,
      "grid_row": null,
      "grid_template_areas": null,
      "grid_template_columns": null,
      "grid_template_rows": null,
      "height": null,
      "justify_content": null,
      "justify_items": null,
      "left": null,
      "margin": null,
      "max_height": null,
      "max_width": null,
      "min_height": null,
      "min_width": null,
      "object_fit": null,
      "object_position": null,
      "order": null,
      "overflow": null,
      "overflow_x": null,
      "overflow_y": null,
      "padding": null,
      "right": null,
      "top": null,
      "visibility": null,
      "width": null
     }
    },
    "89137c9cd49e473db50368a0a74dd92d": {
     "model_module": "@jupyter-widgets/controls",
     "model_module_version": "1.5.0",
     "model_name": "HTMLModel",
     "state": {
      "_dom_classes": [],
      "_model_module": "@jupyter-widgets/controls",
      "_model_module_version": "1.5.0",
      "_model_name": "HTMLModel",
      "_view_count": null,
      "_view_module": "@jupyter-widgets/controls",
      "_view_module_version": "1.5.0",
      "_view_name": "HTMLView",
      "description": "",
      "description_tooltip": null,
      "layout": "IPY_MODEL_f39d1983a341446dac6c8f54ff8fb223",
      "placeholder": "​",
      "style": "IPY_MODEL_e657e2540d0c44e491ec9b923e56c1ee",
      "value": " 135107811/135107811 [00:11&lt;00:00, 13203982.78it/s]"
     }
    },
    "a01b6bd5bb894328880bc84f8ae7bccd": {
     "model_module": "@jupyter-widgets/controls",
     "model_module_version": "1.5.0",
     "model_name": "FloatProgressModel",
     "state": {
      "_dom_classes": [],
      "_model_module": "@jupyter-widgets/controls",
      "_model_module_version": "1.5.0",
      "_model_name": "FloatProgressModel",
      "_view_count": null,
      "_view_module": "@jupyter-widgets/controls",
      "_view_module_version": "1.5.0",
      "_view_name": "ProgressView",
      "bar_style": "success",
      "description": "",
      "description_tooltip": null,
      "layout": "IPY_MODEL_04c3f945006b44678fa6fb3f5b567016",
      "max": 135107811,
      "min": 0,
      "orientation": "horizontal",
      "style": "IPY_MODEL_40ec7065663a40f5a66e7385a2f26a4e",
      "value": 135107811
     }
    },
    "bfb32ebe28bf43868506bc7ca12f1191": {
     "model_module": "@jupyter-widgets/controls",
     "model_module_version": "1.5.0",
     "model_name": "HBoxModel",
     "state": {
      "_dom_classes": [],
      "_model_module": "@jupyter-widgets/controls",
      "_model_module_version": "1.5.0",
      "_model_name": "HBoxModel",
      "_view_count": null,
      "_view_module": "@jupyter-widgets/controls",
      "_view_module_version": "1.5.0",
      "_view_name": "HBoxView",
      "box_style": "",
      "children": [
       "IPY_MODEL_f3196bc95cd1418aab803dfb8415a493",
       "IPY_MODEL_a01b6bd5bb894328880bc84f8ae7bccd",
       "IPY_MODEL_89137c9cd49e473db50368a0a74dd92d"
      ],
      "layout": "IPY_MODEL_59c31d7c267947cda95f55b1b4605add"
     }
    },
    "ce79b9dd0db34dfba4db6646231b772d": {
     "model_module": "@jupyter-widgets/base",
     "model_module_version": "1.2.0",
     "model_name": "LayoutModel",
     "state": {
      "_model_module": "@jupyter-widgets/base",
      "_model_module_version": "1.2.0",
      "_model_name": "LayoutModel",
      "_view_count": null,
      "_view_module": "@jupyter-widgets/base",
      "_view_module_version": "1.2.0",
      "_view_name": "LayoutView",
      "align_content": null,
      "align_items": null,
      "align_self": null,
      "border": null,
      "bottom": null,
      "display": null,
      "flex": null,
      "flex_flow": null,
      "grid_area": null,
      "grid_auto_columns": null,
      "grid_auto_flow": null,
      "grid_auto_rows": null,
      "grid_column": null,
      "grid_gap": null,
      "grid_row": null,
      "grid_template_areas": null,
      "grid_template_columns": null,
      "grid_template_rows": null,
      "height": null,
      "justify_content": null,
      "justify_items": null,
      "left": null,
      "margin": null,
      "max_height": null,
      "max_width": null,
      "min_height": null,
      "min_width": null,
      "object_fit": null,
      "object_position": null,
      "order": null,
      "overflow": null,
      "overflow_x": null,
      "overflow_y": null,
      "padding": null,
      "right": null,
      "top": null,
      "visibility": null,
      "width": null
     }
    },
    "e657e2540d0c44e491ec9b923e56c1ee": {
     "model_module": "@jupyter-widgets/controls",
     "model_module_version": "1.5.0",
     "model_name": "DescriptionStyleModel",
     "state": {
      "_model_module": "@jupyter-widgets/controls",
      "_model_module_version": "1.5.0",
      "_model_name": "DescriptionStyleModel",
      "_view_count": null,
      "_view_module": "@jupyter-widgets/base",
      "_view_module_version": "1.2.0",
      "_view_name": "StyleView",
      "description_width": ""
     }
    },
    "f3196bc95cd1418aab803dfb8415a493": {
     "model_module": "@jupyter-widgets/controls",
     "model_module_version": "1.5.0",
     "model_name": "HTMLModel",
     "state": {
      "_dom_classes": [],
      "_model_module": "@jupyter-widgets/controls",
      "_model_module_version": "1.5.0",
      "_model_name": "HTMLModel",
      "_view_count": null,
      "_view_module": "@jupyter-widgets/controls",
      "_view_module_version": "1.5.0",
      "_view_name": "HTMLView",
      "description": "",
      "description_tooltip": null,
      "layout": "IPY_MODEL_ce79b9dd0db34dfba4db6646231b772d",
      "placeholder": "​",
      "style": "IPY_MODEL_4abf6df2edd249d68905058589800436",
      "value": "100%"
     }
    },
    "f39d1983a341446dac6c8f54ff8fb223": {
     "model_module": "@jupyter-widgets/base",
     "model_module_version": "1.2.0",
     "model_name": "LayoutModel",
     "state": {
      "_model_module": "@jupyter-widgets/base",
      "_model_module_version": "1.2.0",
      "_model_name": "LayoutModel",
      "_view_count": null,
      "_view_module": "@jupyter-widgets/base",
      "_view_module_version": "1.2.0",
      "_view_name": "LayoutView",
      "align_content": null,
      "align_items": null,
      "align_self": null,
      "border": null,
      "bottom": null,
      "display": null,
      "flex": null,
      "flex_flow": null,
      "grid_area": null,
      "grid_auto_columns": null,
      "grid_auto_flow": null,
      "grid_auto_rows": null,
      "grid_column": null,
      "grid_gap": null,
      "grid_row": null,
      "grid_template_areas": null,
      "grid_template_columns": null,
      "grid_template_rows": null,
      "height": null,
      "justify_content": null,
      "justify_items": null,
      "left": null,
      "margin": null,
      "max_height": null,
      "max_width": null,
      "min_height": null,
      "min_width": null,
      "object_fit": null,
      "object_position": null,
      "order": null,
      "overflow": null,
      "overflow_x": null,
      "overflow_y": null,
      "padding": null,
      "right": null,
      "top": null,
      "visibility": null,
      "width": null
     }
    }
   }
  }
 },
 "nbformat": 4,
 "nbformat_minor": 4
}
