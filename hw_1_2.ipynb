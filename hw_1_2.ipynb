{
 "cells": [
  {
   "cell_type": "markdown",
   "metadata": {
    "id": "y2yQI401CyLD"
   },
   "source": [
    "#***1.2 Optimization***\n",
    "\n",
    "\n",
    "Chose to use CNNs."
   ]
  },
  {
   "cell_type": "code",
   "execution_count": 1,
   "metadata": {},
   "outputs": [],
   "source": [
    "# pip install torch"
   ]
  },
  {
   "cell_type": "code",
   "execution_count": 2,
   "metadata": {},
   "outputs": [],
   "source": [
    "# pip install torchvision"
   ]
  },
  {
   "cell_type": "code",
   "execution_count": 2,
   "metadata": {
    "id": "3WHsz-LEGpSK"
   },
   "outputs": [],
   "source": [
    "import torch\n",
    "import os\n",
    "import torchvision\n",
    "import tarfile\n",
    "from torchvision.datasets.utils import download_url\n",
    "from torch.utils.data import random_split\n",
    "from torchvision.datasets import ImageFolder\n",
    "from torchvision.transforms import ToTensor\n",
    "import matplotlib.pyplot as plt\n",
    "import matplotlib\n",
    "%matplotlib inline"
   ]
  },
  {
   "cell_type": "code",
   "execution_count": 3,
   "metadata": {
    "id": "-ej9hvV5Ij4d"
   },
   "outputs": [],
   "source": [
    "project_name = \"01-cifar10-cnn\""
   ]
  },
  {
   "cell_type": "code",
   "execution_count": 4,
   "metadata": {
    "colab": {
     "base_uri": "https://localhost:8080/",
     "height": 66,
     "referenced_widgets": [
      "bfb32ebe28bf43868506bc7ca12f1191",
      "f3196bc95cd1418aab803dfb8415a493",
      "a01b6bd5bb894328880bc84f8ae7bccd",
      "89137c9cd49e473db50368a0a74dd92d",
      "59c31d7c267947cda95f55b1b4605add",
      "ce79b9dd0db34dfba4db6646231b772d",
      "4abf6df2edd249d68905058589800436",
      "04c3f945006b44678fa6fb3f5b567016",
      "40ec7065663a40f5a66e7385a2f26a4e",
      "f39d1983a341446dac6c8f54ff8fb223",
      "e657e2540d0c44e491ec9b923e56c1ee"
     ]
    },
    "id": "O_OB31-8JCUK",
    "outputId": "6a5f1e10-5878-4cd4-cd4b-58dfe4509a0b"
   },
   "outputs": [
    {
     "name": "stdout",
     "output_type": "stream",
     "text": [
      "Using downloaded and verified file: ./cifar10.tgz\n"
     ]
    }
   ],
   "source": [
    "# download the dataset\n",
    "dataset_url = \"https://s3.amazonaws.com/fast-ai-imageclas/cifar10.tgz\"\n",
    "download_url(dataset_url, \".\")"
   ]
  },
  {
   "cell_type": "code",
   "execution_count": 5,
   "metadata": {
    "id": "0y6-S4NgJVWT"
   },
   "outputs": [],
   "source": [
    "# extract from archive into train and test dataset\n",
    "# with tarfile.open(\"./cifar10.tgz\", \"r:gz\") as tar:\n",
    "#   tar.extractall(path=\"./data\")"
   ]
  },
  {
   "cell_type": "code",
   "execution_count": 6,
   "metadata": {
    "colab": {
     "base_uri": "https://localhost:8080/"
    },
    "id": "6uuv_PQMJ1x5",
    "outputId": "415d50c4-9863-45f7-e45a-aad86d15e738"
   },
   "outputs": [
    {
     "name": "stdout",
     "output_type": "stream",
     "text": [
      "['train', 'test']\n",
      "['frog', 'bird', 'airplane', 'dog', 'deer', 'cat', 'automobile', 'truck', 'ship', 'horse']\n"
     ]
    }
   ],
   "source": [
    "data_dir = \"./data/cifar10\"\n",
    "print(os.listdir(data_dir))\n",
    "classes = os.listdir(data_dir + \"/train\")\n",
    "print(classes)"
   ]
  },
  {
   "cell_type": "code",
   "execution_count": 7,
   "metadata": {
    "id": "QxN0J1hWKHgX"
   },
   "outputs": [],
   "source": [
    "# transform the images into tensors\n",
    "dataset = ImageFolder(data_dir+\"/train\", transform=ToTensor())"
   ]
  },
  {
   "cell_type": "code",
   "execution_count": 8,
   "metadata": {
    "colab": {
     "base_uri": "https://localhost:8080/"
    },
    "id": "xNmIyRd9K21O",
    "outputId": "5adf40cc-6f53-4402-be4c-9b1fbda5b583"
   },
   "outputs": [
    {
     "name": "stdout",
     "output_type": "stream",
     "text": [
      "torch.Size([3, 32, 32]) 0\n",
      "['airplane', 'automobile', 'bird', 'cat', 'deer', 'dog', 'frog', 'horse', 'ship', 'truck']\n"
     ]
    }
   ],
   "source": [
    "img, label = dataset[0]\n",
    "\n",
    "# prints 3 32x32 matrices\n",
    "print(img.shape, label)\n",
    "\n",
    "# list of classes is stored in the .classes property\n",
    "print(dataset.classes)"
   ]
  },
  {
   "cell_type": "markdown",
   "metadata": {
    "id": "PScjb6OOLthw"
   },
   "source": [
    "Changing tensor dimensions to be viewable in Matplotlib."
   ]
  },
  {
   "cell_type": "code",
   "execution_count": 13,
   "metadata": {
    "id": "LQAmLg9Sqnpx"
   },
   "outputs": [],
   "source": [
    "from torch.utils.data.dataloader import DataLoader\n",
    "batch_size = 4"
   ]
  },
  {
   "cell_type": "code",
   "execution_count": 14,
   "metadata": {
    "colab": {
     "base_uri": "https://localhost:8080/"
    },
    "id": "UeSeu74E4JoF",
    "outputId": "4c53b669-0109-4bfc-f6b6-2ab882d4ce6f"
   },
   "outputs": [
    {
     "data": {
      "text/plain": [
       "(45000, 5000)"
      ]
     },
     "execution_count": 14,
     "metadata": {},
     "output_type": "execute_result"
    }
   ],
   "source": [
    "val_size = 5000\n",
    "train_size = len(dataset) - val_size\n",
    "\n",
    "train_ds, val_ds = random_split(dataset, [train_size, val_size])\n",
    "len(train_ds), len(val_ds)"
   ]
  },
  {
   "cell_type": "code",
   "execution_count": 15,
   "metadata": {
    "id": "0SFmyXYv3sGq"
   },
   "outputs": [],
   "source": [
    "# divides data into batches\n",
    "train_dl = DataLoader(train_ds,batch_size,shuffle=True,num_workers=4,pin_memory=True)\n",
    "val_dl = DataLoader(val_ds,batch_size*2,num_workers=4,pin_memory=True)"
   ]
  },
  {
   "cell_type": "markdown",
   "metadata": {
    "id": "4rLl8bFIuRdb"
   },
   "source": [
    "# **Creating Networks**\n",
    "\n",
    "effect of conv2d layer on width and height:\n",
    "W = input width/input height\n",
    "F = Filter width/filter height\n",
    "P = Padding\n",
    "S = Stride\n",
    "(W-F +2P)/S+1\n",
    "\n",
    "effect of pooling layer:\n",
    "W/2\n",
    "\n",
    "flattening dimensions need to be equal to:\n",
    "number_of_filters*output_height*output_width"
   ]
  },
  {
   "cell_type": "code",
   "execution_count": 18,
   "metadata": {
    "id": "MBjqJH8FuXbL"
   },
   "outputs": [],
   "source": [
    "import torch.nn as nn\n",
    "import torch.nn.functional as F"
   ]
  },
  {
   "cell_type": "code",
   "execution_count": 19,
   "metadata": {
    "colab": {
     "base_uri": "https://localhost:8080/"
    },
    "id": "q3KS9Dvs0tHk",
    "outputId": "7efde71f-a12a-429e-9ed9-e6bfde1cacec"
   },
   "outputs": [
    {
     "data": {
      "text/plain": [
       "ConvNet(\n",
       "  (conv1): Conv2d(3, 6, kernel_size=(5, 5), stride=(1, 1))\n",
       "  (pool): MaxPool2d(kernel_size=2, stride=2, padding=0, dilation=1, ceil_mode=False)\n",
       "  (conv2): Conv2d(6, 16, kernel_size=(5, 5), stride=(1, 1))\n",
       "  (fc1): Linear(in_features=2304, out_features=120, bias=True)\n",
       "  (fc2): Linear(in_features=120, out_features=84, bias=True)\n",
       "  (Dropout): Dropout(p=0.25, inplace=False)\n",
       "  (fc3): Linear(in_features=84, out_features=10, bias=True)\n",
       ")"
      ]
     },
     "execution_count": 19,
     "metadata": {},
     "output_type": "execute_result"
    }
   ],
   "source": [
    "from torch.nn.modules import Softmax\n",
    "from torch.nn.modules.activation import ReLU\n",
    "\n",
    "device = torch.device('cuda' if torch.cuda.is_available() else 'cpu')\n",
    "\n",
    "class ConvNet(nn.Module):\n",
    "  def __init__(self):\n",
    "    super(ConvNet, self).__init__()\n",
    "    self.conv1 = nn.Conv2d(3,6,5)\n",
    "    self.pool = nn.MaxPool2d(2,2)\n",
    "    self.conv2 = nn.Conv2d(6,16,5)\n",
    "    self.fc1 = nn.Linear(16*12*12, 120)\n",
    "    self.fc2 = nn.Linear(120, 84)\n",
    "    self.Dropout = nn.Dropout(0.25)\n",
    "    self.fc3 = nn.Linear(84, 10)\n",
    "\n",
    "  def forward(self, x):\n",
    "    x = F.relu(self.conv1(x))\n",
    "    x = self.pool(F.relu(self.conv2(x)))\n",
    "    x = self.Dropout(x)\n",
    "    x = x.view(-1, 16*12*12)\n",
    "    x = F.relu(self.fc1(x))\n",
    "    x = F.relu(self.fc2(x))\n",
    "    x = self.fc3(x)\n",
    "    return x\n",
    "\n",
    "model_one = ConvNet().to(device)\n",
    "model_one"
   ]
  },
  {
   "cell_type": "code",
   "execution_count": 20,
   "metadata": {
    "colab": {
     "base_uri": "https://localhost:8080/"
    },
    "id": "y6qkBgN-0_Ti",
    "outputId": "8e52fde4-8868-42b3-ddd4-918c923d2fb4"
   },
   "outputs": [
    {
     "data": {
      "text/plain": [
       "ConvNet_two(\n",
       "  (conv1): Conv2d(3, 12, kernel_size=(3, 3), stride=(1, 1))\n",
       "  (conv2): Conv2d(12, 18, kernel_size=(3, 3), stride=(1, 1))\n",
       "  (conv3): Conv2d(18, 26, kernel_size=(3, 3), stride=(1, 1))\n",
       "  (pool): MaxPool2d(kernel_size=2, stride=2, padding=0, dilation=1, ceil_mode=False)\n",
       "  (fc1): Linear(in_features=936, out_features=100, bias=True)\n",
       "  (fc2): Linear(in_features=100, out_features=84, bias=True)\n",
       "  (Dropout): Dropout(p=0.5, inplace=False)\n",
       "  (fc3): Linear(in_features=84, out_features=10, bias=True)\n",
       ")"
      ]
     },
     "execution_count": 20,
     "metadata": {},
     "output_type": "execute_result"
    }
   ],
   "source": [
    "# NOTE: check your values!! just wasted a bunch of time.\n",
    "class ConvNet_two(nn.Module):\n",
    "  def __init__(self):\n",
    "    super(ConvNet_two, self).__init__()\n",
    "    self.conv1 = nn.Conv2d(3,12,3)\n",
    "    self.conv2 = nn.Conv2d(12,18,3)\n",
    "    self.conv3 = nn.Conv2d(18,26,3)\n",
    "    self.pool = nn.MaxPool2d(2,2)\n",
    "    self.fc1 = nn.Linear(26*6*6, 100)\n",
    "    self.fc2 = nn.Linear(100, 84)\n",
    "    self.Dropout = nn.Dropout(0.5)\n",
    "    self.fc3 = nn.Linear(84, 10)\n",
    "\n",
    "  def forward(self, x):\n",
    "    x = F.relu(self.conv1(x))\n",
    "    x = self.pool(F.relu(self.conv2(x)))\n",
    "    x = self.pool(F.relu(self.conv3(x)))\n",
    "    x = self.Dropout(x)\n",
    "    x = x.view(-1, 26*6*6)\n",
    "    x = F.relu(self.fc1(x))\n",
    "    x = F.relu(self.fc2(x))\n",
    "    x = self.fc3(x)\n",
    "    return x\n",
    "\n",
    "model_two = ConvNet_two().to(device)\n",
    "model_two"
   ]
  },
  {
   "cell_type": "code",
   "execution_count": 21,
   "metadata": {
    "colab": {
     "base_uri": "https://localhost:8080/"
    },
    "id": "fMg0F2lt8ILx",
    "outputId": "18bdd9ae-5c6c-474e-e7a2-cba5572f6d4b"
   },
   "outputs": [
    {
     "data": {
      "text/plain": [
       "ConvNet_three(\n",
       "  (conv1): Conv2d(3, 64, kernel_size=(3, 3), stride=(1, 1))\n",
       "  (conv2): Conv2d(64, 128, kernel_size=(3, 3), stride=(1, 1))\n",
       "  (conv3): Conv2d(128, 256, kernel_size=(3, 3), stride=(1, 1))\n",
       "  (pool): MaxPool2d(kernel_size=2, stride=2, padding=0, dilation=1, ceil_mode=False)\n",
       "  (fc1): Linear(in_features=9216, out_features=120, bias=True)\n",
       "  (fc2): Linear(in_features=120, out_features=84, bias=True)\n",
       "  (Dropout): Dropout(p=0.5, inplace=False)\n",
       "  (fc3): Linear(in_features=84, out_features=10, bias=True)\n",
       ")"
      ]
     },
     "execution_count": 21,
     "metadata": {},
     "output_type": "execute_result"
    }
   ],
   "source": [
    "class ConvNet_three(nn.Module):\n",
    "  def __init__(self):\n",
    "    super(ConvNet_three, self).__init__()\n",
    "    self.conv1 = nn.Conv2d(3,64,3)\n",
    "    self.conv2 = nn.Conv2d(64,128,3)\n",
    "    self.conv3 = nn.Conv2d(128,256,3)\n",
    "    self.pool = nn.MaxPool2d(2,2)\n",
    "    self.fc1 = nn.Linear(256*6*6, 120)\n",
    "    self.fc2 = nn.Linear(120, 84)\n",
    "    self.Dropout = nn.Dropout(0.5)\n",
    "    self.fc3 = nn.Linear(84, 10)\n",
    "\n",
    "  def forward(self, x):\n",
    "    x = F.relu(self.conv1(x))\n",
    "    x = self.pool(F.relu(self.conv2(x)))\n",
    "    x = self.pool(F.relu(self.conv3(x)))\n",
    "    x = self.Dropout(x)\n",
    "    x = x.view(-1, 256*6*6)\n",
    "    x = F.relu(self.fc1(x))\n",
    "    x = F.relu(self.fc2(x))\n",
    "    x = self.fc3(x)\n",
    "    return x\n",
    "\n",
    "model_three = ConvNet_three().to(device)\n",
    "model_three"
   ]
  },
  {
   "cell_type": "markdown",
   "metadata": {
    "id": "nBWC2J9Uh01M"
   },
   "source": [
    "# **Creating functions to train the networks.**\n",
    "CollectWeights class: is responsible for gathering all of the weights of the model in each epic\n",
    "\n",
    "fit_model function: is responsible for training the model.\n",
    "\n",
    "evaulate_model: is responsible for calculating the accuracy of the model\n",
    "\n",
    "gradient_norm function: is responsible for recording the gradient norm and the loss during training"
   ]
  },
  {
   "cell_type": "code",
   "execution_count": 22,
   "metadata": {
    "id": "EbRSEXxeXqCU"
   },
   "outputs": [],
   "source": [
    "# collect weights function\n",
    "class CollectWeights:\n",
    "  def __init__(self, model):\n",
    "    self.model = model\n",
    "    self.epoch_weights = []\n",
    "\n",
    "  def end_of_epoch(self, epoch, logs={}):\n",
    "    state_dict = self.model.state_dict()\n",
    "    self.epoch_weights.append(state_dict)"
   ]
  },
  {
   "cell_type": "code",
   "execution_count": 26,
   "metadata": {
    "id": "IJpyBywjbL-v"
   },
   "outputs": [],
   "source": [
    "# fit model function\n",
    "n_total_steps = len(train_dl)\n",
    "num_epochs = 10\n",
    "\n",
    "def fit_model(model):\n",
    "  criterion = nn.CrossEntropyLoss()\n",
    "  optimizer = torch.optim.SGD(model.parameters(), lr=.001)\n",
    "  callback = CollectWeights(model)\n",
    "  model_list = []\n",
    "  gradient_list = []\n",
    "\n",
    "  # begin training loop\n",
    "  for epoch in range(num_epochs):\n",
    "    for i, (images,labels) in enumerate(train_dl):\n",
    "      images = images.to(device)\n",
    "      labels = labels.to(device)\n",
    "\n",
    "      # forward pass\n",
    "      outputs = model(images)\n",
    "      loss = criterion(outputs, labels)\n",
    "\n",
    "      # backward and optimize\n",
    "      optimizer.zero_grad()\n",
    "      loss.backward()\n",
    "      optimizer.step()\n",
    "\n",
    "      if (i % len(train_dl) == 0):\n",
    "        print(f'MODEL: Epoch [{epoch+1}/{num_epochs}], Step [{i+1}/{n_total_steps}], Loss: {loss.item():.4f}')\n",
    "\n",
    "        # record gradient norm\n",
    "        grad_all = 0.0\n",
    "\n",
    "        for p in model.parameters():\n",
    "          grad = 0.0\n",
    "          if p.grad is not None:\n",
    "            grad = (p.grad.cpu().data.numpy()**2).sum()\n",
    "          grad_all += grad\n",
    "\n",
    "        grad_norm = grad_all ** 0.5\n",
    "        gradient_list.append(grad_norm)\n",
    "        \n",
    "        # collects loss values\n",
    "        model_list.append(loss.item())\n",
    "        \n",
    "        # collect weights\n",
    "        callback.end_of_epoch(epoch)\n",
    "\n",
    "  print(f'MODEL: Epoch [{epoch+1}/{num_epochs}], Step [{i+1}/{n_total_steps}], Loss: {loss.item():.4f}')\n",
    "  #collect parameters of model at every epoch\n",
    "  params = model.state_dict()\n",
    "  for name, param in params.items():\n",
    "    print(f'{name}: {param.shape}')\n",
    "  return model_list, callback.epoch_weights, gradient_list\n"
   ]
  },
  {
   "cell_type": "code",
   "execution_count": 24,
   "metadata": {
    "id": "jmDtQGMczlCk"
   },
   "outputs": [],
   "source": [
    "# evaluate model accuracy\n",
    "\n",
    "model_one_accuracy = []\n",
    "model_two_accuracy = []\n",
    "model_three_accuracy = []\n",
    "\n",
    "def evaluate_model (model, model_list):\n",
    "  model.eval()\n",
    "  with torch.no_grad():\n",
    "    correct = 0\n",
    "    total = 0\n",
    "    for images,labels in val_dl:\n",
    "      images = images.to(device)\n",
    "      labels = labels.to(device)\n",
    "      outputs = model(images)\n",
    "      _, predicted = torch.max(outputs.data,1)\n",
    "      total += labels.size(0)\n",
    "      correct += (predicted == labels).sum().item()\n",
    "      accuract_value = 100*correct/total\n",
    "      model_list.append(accuract_value)\n",
    "      i = 0\n",
    "      \n",
    "    print(f\"Accuract of the model on the test images: {100*correct/total}%\")"
   ]
  },
  {
   "cell_type": "code",
   "execution_count": 37,
   "metadata": {},
   "outputs": [],
   "source": [
    "# plot the loss of your model's training in comparison to testing\n",
    "def plot_comp(training, testing, metric, title=\"Training vs Testing\"):\n",
    "    plt.plot(training, color=\"red\", label=\"gradient\")\n",
    "    plt.plot(testing, color=\"blue\", label=\"loss\")\n",
    "\n",
    "    plt.xlabel('Test Images')\n",
    "    plt.ylabel(metric)\n",
    "    plt.title(title)\n",
    "    plt.legend()\n",
    "    plt.show()"
   ]
  },
  {
   "cell_type": "markdown",
   "metadata": {
    "id": "Z4nEI6aTOzGg"
   },
   "source": [
    "# **Model Training and Evaluation**\n",
    "Each cell below includes the model's training and evaluation functions."
   ]
  },
  {
   "cell_type": "code",
   "execution_count": 27,
   "metadata": {
    "colab": {
     "base_uri": "https://localhost:8080/"
    },
    "id": "2zAmRKwLvbq1",
    "outputId": "6a6984f0-e614-43ae-83be-698fddeccf31"
   },
   "outputs": [
    {
     "name": "stdout",
     "output_type": "stream",
     "text": [
      "MODEL: Epoch [1/10], Step [1/11250], Loss: 2.2951\n",
      "MODEL: Epoch [2/10], Step [1/11250], Loss: 2.3393\n",
      "MODEL: Epoch [3/10], Step [1/11250], Loss: 1.4791\n",
      "MODEL: Epoch [4/10], Step [1/11250], Loss: 1.8584\n",
      "MODEL: Epoch [5/10], Step [1/11250], Loss: 1.2505\n",
      "MODEL: Epoch [6/10], Step [1/11250], Loss: 1.8282\n",
      "MODEL: Epoch [7/10], Step [1/11250], Loss: 0.8233\n",
      "MODEL: Epoch [8/10], Step [1/11250], Loss: 2.0230\n",
      "MODEL: Epoch [9/10], Step [1/11250], Loss: 0.6729\n",
      "MODEL: Epoch [10/10], Step [1/11250], Loss: 0.5891\n",
      "MODEL: Epoch [10/10], Step [11250/11250], Loss: 0.8258\n",
      "conv1.weight: torch.Size([6, 3, 5, 5])\n",
      "conv1.bias: torch.Size([6])\n",
      "conv2.weight: torch.Size([16, 6, 5, 5])\n",
      "conv2.bias: torch.Size([16])\n",
      "fc1.weight: torch.Size([120, 2304])\n",
      "fc1.bias: torch.Size([120])\n",
      "fc2.weight: torch.Size([84, 120])\n",
      "fc2.bias: torch.Size([84])\n",
      "fc3.weight: torch.Size([10, 84])\n",
      "fc3.bias: torch.Size([10])\n",
      "Model [1] Loss:  0.5891302824020386\n",
      "Accuract of the model on the test images: 50.38%\n"
     ]
    }
   ],
   "source": [
    "model_one_loss = []\n",
    "model_one_weights = []\n",
    "model_one_gradients = []\n",
    "\n",
    "# train and evaluate the model\n",
    "model_one_loss, model_one_weights, model_one_gradients = fit_model(model_one)\n",
    "print(\"Model [1] Loss: \", model_one_loss[-1])\n",
    "evaluate_model(model_one, model_one_accuracy)"
   ]
  },
  {
   "cell_type": "code",
   "execution_count": 38,
   "metadata": {},
   "outputs": [
    {
     "data": {
      "image/png": "[encoded data removed]",
      "text/plain": [
       "<Figure size 432x288 with 1 Axes>"
      ]
     },
     "metadata": {},
     "output_type": "display_data"
    }
   ],
   "source": [
    "plot_comp(model_one_gradients, model_one_loss, \"value\", \"gradient vs loss\")"
   ]
  },
  {
   "cell_type": "code",
   "execution_count": null,
   "metadata": {
    "colab": {
     "base_uri": "https://localhost:8080/"
    },
    "id": "O9eF1_Qlp5E_",
    "outputId": "0001cb3e-5e13-452a-e7bf-a2e28d2b2b2f"
   },
   "outputs": [
    {
     "name": "stdout",
     "output_type": "stream",
     "text": [
      "MODEL: Epoch [1/10], Step [1/11250], Loss: 2.3468\n",
      "MODEL: Epoch [2/10], Step [1/11250], Loss: 2.3085\n",
      "MODEL: Epoch [3/10], Step [1/11250], Loss: 2.3032\n",
      "MODEL: Epoch [4/10], Step [1/11250], Loss: 2.3031\n",
      "MODEL: Epoch [5/10], Step [1/11250], Loss: 2.3054\n",
      "MODEL: Epoch [6/10], Step [1/11250], Loss: 2.2936\n"
     ]
    }
   ],
   "source": [
    "model_two_loss = []\n",
    "model_two_weights = []\n",
    "\n",
    "# train and evaluate the model\n",
    "model_two_loss, model_two_weights, model_two_gradients = fit_model(model_two)\n",
    "evaluate_model(model_two, model_two_accuracy)"
   ]
  },
  {
   "cell_type": "code",
   "execution_count": null,
   "metadata": {},
   "outputs": [],
   "source": [
    "plot_comp(model_two_gradients, model_two_loss, \"value\", \"gradient vs loss\")"
   ]
  },
  {
   "cell_type": "code",
   "execution_count": null,
   "metadata": {
    "id": "i8CLtBEKvTjK"
   },
   "outputs": [],
   "source": [
    "model_three_loss = []\n",
    "model_three_weights = []\n",
    "\n",
    "# train and evaluate the model\n",
    "model_three_loss, model_three_weights, model_three_gradients = fit_model(model_three)\n",
    "evaluate_model(model_three, model_three_accuracy)"
   ]
  },
  {
   "cell_type": "code",
   "execution_count": null,
   "metadata": {},
   "outputs": [],
   "source": [
    "plot_comp(model_three_gradients, model_three_loss, \"value\", \"gradient vs loss\")"
   ]
  },
  {
   "cell_type": "markdown",
   "metadata": {
    "id": "rR35VoxkTkRW"
   },
   "source": [
    "# **Visualizing Optimization**\n",
    "Couldn't figure out how to mimic what Dr. Feng had done in the powerpoint."
   ]
  },
  {
   "cell_type": "code",
   "execution_count": 32,
   "metadata": {
    "colab": {
     "base_uri": "https://localhost:8080/",
     "height": 356
    },
    "id": "Rqoo060bToJP",
    "outputId": "3c7697de-6e3f-489a-fd9a-d8456f205c1e"
   },
   "outputs": [
    {
     "name": "stdout",
     "output_type": "stream",
     "text": [
      "conv1.weight\n",
      "conv2.weight\n",
      "fc1.weight\n",
      "fc2.weight\n",
      "fc3.weight\n",
      "conv1.weight\n",
      "conv2.weight\n",
      "fc1.weight\n",
      "fc2.weight\n",
      "fc3.weight\n",
      "conv1.weight\n",
      "conv2.weight\n",
      "fc1.weight\n",
      "fc2.weight\n",
      "fc3.weight\n",
      "conv1.weight\n",
      "conv2.weight\n",
      "fc1.weight\n",
      "fc2.weight\n",
      "fc3.weight\n",
      "conv1.weight\n",
      "conv2.weight\n",
      "fc1.weight\n",
      "fc2.weight\n",
      "fc3.weight\n",
      "conv1.weight\n",
      "conv2.weight\n",
      "fc1.weight\n",
      "fc2.weight\n",
      "fc3.weight\n",
      "conv1.weight\n",
      "conv2.weight\n",
      "fc1.weight\n",
      "fc2.weight\n",
      "fc3.weight\n",
      "conv1.weight\n",
      "conv2.weight\n",
      "fc1.weight\n",
      "fc2.weight\n",
      "fc3.weight\n",
      "conv1.weight\n",
      "conv2.weight\n",
      "fc1.weight\n",
      "fc2.weight\n",
      "fc3.weight\n",
      "conv1.weight\n",
      "conv2.weight\n",
      "fc1.weight\n",
      "fc2.weight\n",
      "fc3.weight\n"
     ]
    },
    {
     "data": {
      "text/plain": [
       "tensor([[[[-2.1875e-01, -1.8612e-01, -2.0453e-01, -2.7057e-01, -1.3709e-01],\n",
       "          [ 3.8308e-02,  6.4009e-02, -5.4242e-02, -7.5104e-02, -3.7610e-02],\n",
       "          [ 2.2358e-01,  1.7457e-01,  1.9435e-01,  7.4879e-02,  9.9095e-02],\n",
       "          [ 2.5909e-02,  1.9187e-01,  8.5093e-02, -5.3806e-02,  8.5532e-02],\n",
       "          [ 1.0364e-01,  8.7662e-02,  8.9987e-02, -9.4122e-02, -1.0434e-01]],\n",
       "\n",
       "         [[ 2.2145e-01,  1.3964e-01,  8.5202e-02,  1.7724e-01,  6.0787e-02],\n",
       "          [ 3.6026e-01,  2.6792e-01,  2.4656e-01,  3.3536e-01,  3.1679e-01],\n",
       "          [ 3.1944e-01,  4.1890e-01,  3.0350e-01,  1.8773e-01,  2.4294e-01],\n",
       "          [ 1.5940e-01,  1.5329e-01,  4.8700e-02,  1.3617e-01,  4.3324e-02],\n",
       "          [ 1.1247e-01,  1.0345e-01, -7.6892e-03,  1.3513e-01,  1.8519e-01]],\n",
       "\n",
       "         [[-1.2530e-01, -1.7472e-01, -5.3944e-02, -9.6858e-02, -1.9426e-01],\n",
       "          [ 4.1281e-03,  7.8454e-02,  3.8149e-02,  4.5429e-03, -1.2123e-02],\n",
       "          [ 5.4402e-02, -1.6463e-02,  4.5597e-02, -1.5616e-01, -4.6025e-02],\n",
       "          [-6.2975e-02, -2.2637e-01, -1.1941e-01, -2.6146e-01, -8.5220e-02],\n",
       "          [-2.3814e-01, -1.8142e-01, -1.0724e-01, -1.8809e-01, -1.6836e-01]]],\n",
       "\n",
       "\n",
       "        [[[ 3.0862e-02,  1.1792e-01,  1.6286e-01,  8.8883e-02,  1.4618e-01],\n",
       "          [ 2.7050e-01,  4.0343e-01,  3.6465e-01,  2.9883e-01,  2.2590e-01],\n",
       "          [ 3.1610e-01,  4.1206e-01,  5.0455e-01,  3.9275e-01,  1.1294e-01],\n",
       "          [ 3.1737e-01,  3.2269e-01,  3.2800e-01,  1.6933e-01,  2.1337e-01],\n",
       "          [ 1.1749e-01,  1.1321e-01,  9.8792e-02,  1.3751e-01,  1.2255e-01]],\n",
       "\n",
       "         [[-9.9310e-02,  1.6708e-02, -5.9481e-03, -1.3787e-01, -1.3484e-01],\n",
       "          [ 6.5308e-02,  1.4589e-01, -3.0415e-02,  1.2052e-01, -1.1048e-01],\n",
       "          [ 2.0699e-02,  6.1957e-02,  3.6165e-03, -9.6951e-02, -1.9718e-01],\n",
       "          [-1.6382e-02, -4.3809e-02, -1.8858e-01, -1.7730e-01, -9.4695e-02],\n",
       "          [-1.9073e-01, -2.9841e-02, -1.0408e-01, -5.4811e-02, -2.6630e-01]],\n",
       "\n",
       "         [[-1.0574e-02, -4.1217e-02, -7.2470e-02, -3.9290e-02, -9.9621e-02],\n",
       "          [-4.5829e-02, -1.2538e-01, -2.2608e-02, -1.2263e-01,  6.3352e-03],\n",
       "          [-1.7731e-01, -1.2748e-01,  6.5178e-02,  8.1858e-03, -1.6134e-01],\n",
       "          [-1.4569e-01, -1.7121e-01, -1.1343e-01, -6.0723e-02, -8.8558e-02],\n",
       "          [ 2.3458e-03, -1.3572e-01, -9.9509e-02, -1.7228e-01, -1.7088e-01]]],\n",
       "\n",
       "\n",
       "        [[[ 1.7462e-01,  3.5378e-02,  1.1740e-01,  2.1786e-01,  1.8891e-01],\n",
       "          [-8.1068e-02, -4.7823e-02, -8.7173e-02, -8.1352e-02,  1.0168e-01],\n",
       "          [-6.6713e-02, -1.8987e-01, -2.4466e-03, -1.4201e-01, -1.5092e-01],\n",
       "          [-8.2977e-02, -5.0341e-02, -2.4808e-02, -1.8446e-02, -1.0552e-01],\n",
       "          [ 1.2201e-01,  2.3358e-02,  9.6093e-02,  9.3647e-02, -7.2150e-02]],\n",
       "\n",
       "         [[ 4.1544e-02,  1.5045e-01,  1.6394e-01,  5.1335e-02,  1.1091e-01],\n",
       "          [-8.4486e-02, -1.4565e-01, -1.2574e-01, -8.0470e-02, -1.3555e-01],\n",
       "          [ 2.2423e-02, -6.6143e-02, -1.2770e-01, -1.3458e-01, -3.1749e-02],\n",
       "          [-3.8628e-02, -3.0766e-02,  4.7424e-03, -7.5621e-02, -1.4579e-04],\n",
       "          [ 1.8832e-01,  1.7809e-01,  1.1191e-01,  1.2188e-02,  1.0713e-01]],\n",
       "\n",
       "         [[-5.4732e-02, -7.6722e-02, -2.5810e-02, -6.0447e-02,  6.6787e-02],\n",
       "          [-1.2548e-01, -5.3065e-02, -1.8000e-02, -8.8339e-02, -8.0439e-02],\n",
       "          [ 1.1531e-02, -1.4276e-01,  1.1585e-02, -7.1711e-02, -1.2537e-01],\n",
       "          [ 2.4458e-02,  8.4635e-03,  4.2523e-02,  1.4210e-02,  5.7505e-02],\n",
       "          [ 1.1844e-01,  1.7109e-01,  5.4600e-02,  1.4511e-01,  1.8208e-01]]],\n",
       "\n",
       "\n",
       "        [[[-9.5417e-02, -1.1863e-01, -3.1602e-02, -1.8363e-01, -1.4203e-01],\n",
       "          [ 1.4126e-02, -8.9367e-02, -9.0761e-02, -1.8558e-01, -1.4617e-01],\n",
       "          [-9.7385e-02, -1.2715e-01, -3.6387e-02, -1.6568e-01, -2.3009e-02],\n",
       "          [-1.7490e-01, -1.5061e-01, -1.7140e-02, -5.7446e-02, -1.6243e-01],\n",
       "          [-5.1524e-02, -7.5494e-02, -1.4260e-01, -2.1321e-01, -3.5259e-02]],\n",
       "\n",
       "         [[ 7.7737e-02,  6.2743e-02,  6.3240e-02,  5.2912e-02, -4.1617e-02],\n",
       "          [-6.5293e-02, -3.5380e-03,  6.9742e-02,  4.5895e-02, -1.8101e-03],\n",
       "          [ 5.6343e-02,  3.8452e-02, -4.9462e-02,  1.3255e-01,  1.0579e-01],\n",
       "          [ 7.8989e-02, -3.7322e-02,  5.8874e-02,  2.7840e-02,  1.0503e-01],\n",
       "          [ 5.7247e-02, -2.0327e-02,  4.0707e-02, -4.7542e-02, -6.3746e-02]],\n",
       "\n",
       "         [[ 9.8554e-02,  1.1875e-01,  1.4401e-01,  1.5717e-01,  2.1371e-01],\n",
       "          [ 1.4388e-01,  1.3632e-01,  1.0478e-03,  3.0992e-02,  1.5707e-01],\n",
       "          [ 1.5200e-01,  1.0440e-01,  1.2850e-01,  1.5526e-01,  4.9398e-02],\n",
       "          [ 3.5147e-02, -1.3802e-02,  1.4097e-02,  3.5030e-02,  1.7761e-02],\n",
       "          [ 2.0225e-02, -7.3800e-02,  1.1114e-01, -4.9573e-02,  2.3268e-03]]],\n",
       "\n",
       "\n",
       "        [[[-1.5142e-01, -1.7822e-01, -9.1627e-02,  3.3146e-02, -1.8296e-01],\n",
       "          [-1.4813e-02, -1.0916e-01, -1.1010e-01,  2.3375e-02, -1.9630e-02],\n",
       "          [-1.1837e-02,  1.9808e-02,  6.4936e-02,  2.6525e-02, -5.3998e-02],\n",
       "          [-2.3009e-02, -1.5295e-01, -1.5883e-01, -9.0312e-02, -1.3978e-01],\n",
       "          [-2.2678e-02, -2.2925e-02,  5.8287e-02, -1.0101e-01,  5.2156e-02]],\n",
       "\n",
       "         [[-1.4945e-01, -6.2789e-02,  1.5346e-01,  2.9665e-02,  6.9761e-03],\n",
       "          [-8.0077e-02,  8.2857e-02,  5.9031e-02,  1.5576e-01,  7.0611e-02],\n",
       "          [-6.2216e-02, -2.4834e-02, -2.1304e-02,  8.3365e-02,  7.6436e-04],\n",
       "          [-2.1597e-01, -1.1047e-01, -4.8701e-02,  3.6374e-02, -1.4576e-01],\n",
       "          [-1.8588e-01, -2.0707e-01, -1.5373e-02, -1.5442e-01, -1.5815e-01]],\n",
       "\n",
       "         [[ 2.4841e-01,  3.2702e-01,  3.2977e-01,  3.5758e-01,  1.1028e-01],\n",
       "          [ 1.4446e-01,  3.9642e-01,  4.2865e-01,  3.9704e-01,  1.3236e-01],\n",
       "          [ 2.2251e-01,  3.6886e-01,  3.5395e-01,  2.7865e-01,  2.8899e-01],\n",
       "          [ 2.0189e-01,  2.3365e-01,  2.2713e-01,  6.9199e-02,  1.3066e-02],\n",
       "          [ 5.2486e-02, -2.4717e-02,  9.4824e-02,  5.8471e-02,  6.5595e-02]]],\n",
       "\n",
       "\n",
       "        [[[-4.0680e-02,  7.6990e-02,  1.0663e-01, -8.3531e-02,  1.1282e-01],\n",
       "          [-1.3434e-01, -1.2701e-01, -8.8254e-04, -6.7033e-02, -1.2059e-01],\n",
       "          [-7.2596e-02,  1.0681e-01, -8.4030e-02, -4.3516e-02, -7.0811e-02],\n",
       "          [ 1.5855e-01,  1.9806e-01,  8.7425e-02,  1.4353e-01,  1.0824e-01],\n",
       "          [ 5.1591e-02,  1.6827e-01,  1.9978e-01,  2.5777e-01,  2.6675e-01]],\n",
       "\n",
       "         [[-1.1042e-01, -9.8419e-02, -9.7454e-02, -1.2501e-01,  1.9200e-02],\n",
       "          [-6.6487e-02, -1.4509e-01, -4.3874e-02, -1.0579e-01, -2.5263e-02],\n",
       "          [-1.3889e-02, -1.8550e-01, -8.1723e-02, -6.3886e-04, -8.5193e-02],\n",
       "          [ 3.4488e-02,  1.2591e-01,  7.3521e-02,  1.2666e-02,  1.4276e-01],\n",
       "          [ 1.4799e-01,  1.2091e-01,  3.3643e-02,  3.1061e-02,  8.5566e-02]],\n",
       "\n",
       "         [[-8.7388e-03,  6.1451e-02, -1.8964e-02, -2.1043e-02,  1.1686e-02],\n",
       "          [-1.8584e-01, -1.0776e-01, -5.8708e-02, -1.2339e-01, -4.0231e-02],\n",
       "          [-1.0624e-01, -1.9543e-01, -1.7151e-01, -7.2969e-02, -1.6255e-01],\n",
       "          [ 1.2604e-01,  8.7972e-02,  1.5843e-01,  1.0983e-02,  1.0867e-01],\n",
       "          [-4.5771e-02,  1.0554e-01,  1.2527e-01,  8.8299e-02,  8.2275e-03]]]],\n",
       "       device='cuda:0')"
      ]
     },
     "execution_count": 32,
     "metadata": {},
     "output_type": "execute_result"
    }
   ],
   "source": [
    "# create a scatter plot of the weights from the models\n",
    "epoch_iters = [\"epoch_\"+str(i+1) for i in range(num_epochs)]\n",
    "\n",
    "def parse_weights(model_weights):\n",
    "  list = []\n",
    "  for i in model_weights:\n",
    "    for item in i.keys():\n",
    "      if 'weight' in item:\n",
    "        print(item)\n",
    "        list.append(i)\n",
    "  return list\n",
    "    \n",
    "model_1_weights = parse_weights(model_one_weights)\n",
    "model_1_weights[0][\"conv1.weight\"]"
   ]
  },
  {
   "cell_type": "code",
   "execution_count": null,
   "metadata": {},
   "outputs": [],
   "source": []
  }
 ],
 "metadata": {
  "accelerator": "GPU",
  "colab": {
   "provenance": []
  },
  "gpuClass": "standard",
  "kernelspec": {
   "display_name": "Python 3 (ipykernel)",
   "language": "python",
   "name": "python3"
  },
  "language_info": {
   "codemirror_mode": {
    "name": "ipython",
    "version": 3
   },
   "file_extension": ".py",
   "mimetype": "text/x-python",
   "name": "python",
   "nbconvert_exporter": "python",
   "pygments_lexer": "ipython3",
   "version": "3.9.12"
  },
  "widgets": {
   "application/vnd.jupyter.widget-state+json": {
    "04c3f945006b44678fa6fb3f5b567016": {
     "model_module": "@jupyter-widgets/base",
     "model_module_version": "1.2.0",
     "model_name": "LayoutModel",
     "state": {
      "_model_module": "@jupyter-widgets/base",
      "_model_module_version": "1.2.0",
      "_model_name": "LayoutModel",
      "_view_count": null,
      "_view_module": "@jupyter-widgets/base",
      "_view_module_version": "1.2.0",
      "_view_name": "LayoutView",
      "align_content": null,
      "align_items": null,
      "align_self": null,
      "border": null,
      "bottom": null,
      "display": null,
      "flex": null,
      "flex_flow": null,
      "grid_area": null,
      "grid_auto_columns": null,
      "grid_auto_flow": null,
      "grid_auto_rows": null,
      "grid_column": null,
      "grid_gap": null,
      "grid_row": null,
      "grid_template_areas": null,
      "grid_template_columns": null,
      "grid_template_rows": null,
      "height": null,
      "justify_content": null,
      "justify_items": null,
      "left": null,
      "margin": null,
      "max_height": null,
      "max_width": null,
      "min_height": null,
      "min_width": null,
      "object_fit": null,
      "object_position": null,
      "order": null,
      "overflow": null,
      "overflow_x": null,
      "overflow_y": null,
      "padding": null,
      "right": null,
      "top": null,
      "visibility": null,
      "width": null
     }
    },
    "40ec7065663a40f5a66e7385a2f26a4e": {
     "model_module": "@jupyter-widgets/controls",
     "model_module_version": "1.5.0",
     "model_name": "ProgressStyleModel",
     "state": {
      "_model_module": "@jupyter-widgets/controls",
      "_model_module_version": "1.5.0",
      "_model_name": "ProgressStyleModel",
      "_view_count": null,
      "_view_module": "@jupyter-widgets/base",
      "_view_module_version": "1.2.0",
      "_view_name": "StyleView",
      "bar_color": null,
      "description_width": ""
     }
    },
    "4abf6df2edd249d68905058589800436": {
     "model_module": "@jupyter-widgets/controls",
     "model_module_version": "1.5.0",
     "model_name": "DescriptionStyleModel",
     "state": {
      "_model_module": "@jupyter-widgets/controls",
      "_model_module_version": "1.5.0",
      "_model_name": "DescriptionStyleModel",
      "_view_count": null,
      "_view_module": "@jupyter-widgets/base",
      "_view_module_version": "1.2.0",
      "_view_name": "StyleView",
      "description_width": ""
     }
    },
    "59c31d7c267947cda95f55b1b4605add": {
     "model_module": "@jupyter-widgets/base",
     "model_module_version": "1.2.0",
     "model_name": "LayoutModel",
     "state": {
      "_model_module": "@jupyter-widgets/base",
      "_model_module_version": "1.2.0",
      "_model_name": "LayoutModel",
      "_view_count": null,
      "_view_module": "@jupyter-widgets/base",
      "_view_module_version": "1.2.0",
      "_view_name": "LayoutView",
      "align_content": null,
      "align_items": null,
      "align_self": null,
      "border": null,
      "bottom": null,
      "display": null,
      "flex": null,
      "flex_flow": null,
      "grid_area": null,
      "grid_auto_columns": null,
      "grid_auto_flow": null,
      "grid_auto_rows": null,
      "grid_column": null,
      "grid_gap": null,
      "grid_row": null,
      "grid_template_areas": null,
      "grid_template_columns": null,
      "grid_template_rows": null,
      "height": null,
      "justify_content": null,
      "justify_items": null,
      "left": null,
      "margin": null,
      "max_height": null,
      "max_width": null,
      "min_height": null,
      "min_width": null,
      "object_fit": null,
      "object_position": null,
      "order": null,
      "overflow": null,
      "overflow_x": null,
      "overflow_y": null,
      "padding": null,
      "right": null,
      "top": null,
      "visibility": null,
      "width": null
     }
    },
    "89137c9cd49e473db50368a0a74dd92d": {
     "model_module": "@jupyter-widgets/controls",
     "model_module_version": "1.5.0",
     "model_name": "HTMLModel",
     "state": {
      "_dom_classes": [],
      "_model_module": "@jupyter-widgets/controls",
      "_model_module_version": "1.5.0",
      "_model_name": "HTMLModel",
      "_view_count": null,
      "_view_module": "@jupyter-widgets/controls",
      "_view_module_version": "1.5.0",
      "_view_name": "HTMLView",
      "description": "",
      "description_tooltip": null,
      "layout": "IPY_MODEL_f39d1983a341446dac6c8f54ff8fb223",
      "placeholder": "​",
      "style": "IPY_MODEL_e657e2540d0c44e491ec9b923e56c1ee",
      "value": " 135107811/135107811 [00:11&lt;00:00, 13203982.78it/s]"
     }
    },
    "a01b6bd5bb894328880bc84f8ae7bccd": {
     "model_module": "@jupyter-widgets/controls",
     "model_module_version": "1.5.0",
     "model_name": "FloatProgressModel",
     "state": {
      "_dom_classes": [],
      "_model_module": "@jupyter-widgets/controls",
      "_model_module_version": "1.5.0",
      "_model_name": "FloatProgressModel",
      "_view_count": null,
      "_view_module": "@jupyter-widgets/controls",
      "_view_module_version": "1.5.0",
      "_view_name": "ProgressView",
      "bar_style": "success",
      "description": "",
      "description_tooltip": null,
      "layout": "IPY_MODEL_04c3f945006b44678fa6fb3f5b567016",
      "max": 135107811,
      "min": 0,
      "orientation": "horizontal",
      "style": "IPY_MODEL_40ec7065663a40f5a66e7385a2f26a4e",
      "value": 135107811
     }
    },
    "bfb32ebe28bf43868506bc7ca12f1191": {
     "model_module": "@jupyter-widgets/controls",
     "model_module_version": "1.5.0",
     "model_name": "HBoxModel",
     "state": {
      "_dom_classes": [],
      "_model_module": "@jupyter-widgets/controls",
      "_model_module_version": "1.5.0",
      "_model_name": "HBoxModel",
      "_view_count": null,
      "_view_module": "@jupyter-widgets/controls",
      "_view_module_version": "1.5.0",
      "_view_name": "HBoxView",
      "box_style": "",
      "children": [
       "IPY_MODEL_f3196bc95cd1418aab803dfb8415a493",
       "IPY_MODEL_a01b6bd5bb894328880bc84f8ae7bccd",
       "IPY_MODEL_89137c9cd49e473db50368a0a74dd92d"
      ],
      "layout": "IPY_MODEL_59c31d7c267947cda95f55b1b4605add"
     }
    },
    "ce79b9dd0db34dfba4db6646231b772d": {
     "model_module": "@jupyter-widgets/base",
     "model_module_version": "1.2.0",
     "model_name": "LayoutModel",
     "state": {
      "_model_module": "@jupyter-widgets/base",
      "_model_module_version": "1.2.0",
      "_model_name": "LayoutModel",
      "_view_count": null,
      "_view_module": "@jupyter-widgets/base",
      "_view_module_version": "1.2.0",
      "_view_name": "LayoutView",
      "align_content": null,
      "align_items": null,
      "align_self": null,
      "border": null,
      "bottom": null,
      "display": null,
      "flex": null,
      "flex_flow": null,
      "grid_area": null,
      "grid_auto_columns": null,
      "grid_auto_flow": null,
      "grid_auto_rows": null,
      "grid_column": null,
      "grid_gap": null,
      "grid_row": null,
      "grid_template_areas": null,
      "grid_template_columns": null,
      "grid_template_rows": null,
      "height": null,
      "justify_content": null,
      "justify_items": null,
      "left": null,
      "margin": null,
      "max_height": null,
      "max_width": null,
      "min_height": null,
      "min_width": null,
      "object_fit": null,
      "object_position": null,
      "order": null,
      "overflow": null,
      "overflow_x": null,
      "overflow_y": null,
      "padding": null,
      "right": null,
      "top": null,
      "visibility": null,
      "width": null
     }
    },
    "e657e2540d0c44e491ec9b923e56c1ee": {
     "model_module": "@jupyter-widgets/controls",
     "model_module_version": "1.5.0",
     "model_name": "DescriptionStyleModel",
     "state": {
      "_model_module": "@jupyter-widgets/controls",
      "_model_module_version": "1.5.0",
      "_model_name": "DescriptionStyleModel",
      "_view_count": null,
      "_view_module": "@jupyter-widgets/base",
      "_view_module_version": "1.2.0",
      "_view_name": "StyleView",
      "description_width": ""
     }
    },
    "f3196bc95cd1418aab803dfb8415a493": {
     "model_module": "@jupyter-widgets/controls",
     "model_module_version": "1.5.0",
     "model_name": "HTMLModel",
     "state": {
      "_dom_classes": [],
      "_model_module": "@jupyter-widgets/controls",
      "_model_module_version": "1.5.0",
      "_model_name": "HTMLModel",
      "_view_count": null,
      "_view_module": "@jupyter-widgets/controls",
      "_view_module_version": "1.5.0",
      "_view_name": "HTMLView",
      "description": "",
      "description_tooltip": null,
      "layout": "IPY_MODEL_ce79b9dd0db34dfba4db6646231b772d",
      "placeholder": "​",
      "style": "IPY_MODEL_4abf6df2edd249d68905058589800436",
      "value": "100%"
     }
    },
    "f39d1983a341446dac6c8f54ff8fb223": {
     "model_module": "@jupyter-widgets/base",
     "model_module_version": "1.2.0",
     "model_name": "LayoutModel",
     "state": {
      "_model_module": "@jupyter-widgets/base",
      "_model_module_version": "1.2.0",
      "_model_name": "LayoutModel",
      "_view_count": null,
      "_view_module": "@jupyter-widgets/base",
      "_view_module_version": "1.2.0",
      "_view_name": "LayoutView",
      "align_content": null,
      "align_items": null,
      "align_self": null,
      "border": null,
      "bottom": null,
      "display": null,
      "flex": null,
      "flex_flow": null,
      "grid_area": null,
      "grid_auto_columns": null,
      "grid_auto_flow": null,
      "grid_auto_rows": null,
      "grid_column": null,
      "grid_gap": null,
      "grid_row": null,
      "grid_template_areas": null,
      "grid_template_columns": null,
      "grid_template_rows": null,
      "height": null,
      "justify_content": null,
      "justify_items": null,
      "left": null,
      "margin": null,
      "max_height": null,
      "max_width": null,
      "min_height": null,
      "min_width": null,
      "object_fit": null,
      "object_position": null,
      "order": null,
      "overflow": null,
      "overflow_x": null,
      "overflow_y": null,
      "padding": null,
      "right": null,
      "top": null,
      "visibility": null,
      "width": null
     }
    }
   }
  }
 },
 "nbformat": 4,
 "nbformat_minor": 4
}
